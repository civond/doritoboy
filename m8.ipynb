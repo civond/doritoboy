{
 "cells": [
  {
   "cell_type": "markdown",
   "metadata": {},
   "source": [
    "#### Bi 410/510 (Fall 2019)"
   ]
  },
  {
   "cell_type": "markdown",
   "metadata": {},
   "source": [
    "Before you turn this problem in, make sure everything runs as expected. First, **restart the kernel** (in the menubar, select Kernel$\\rightarrow$Restart) and then **run all cells** (in the menubar, select Cell$\\rightarrow$Run All).\n",
    "\n",
    "As you work on the projects write your Python code in the cells that have a comment that says `\"YOUR CODE HERE\"` or `\"YOUR ANSWER HERE\"`.\n",
    "\n",
    "**IMPORTANT:** Do not copy or delete these cells.\n",
    "\n",
    "You can add additional \"sandbox\" cells if you wish, but make sure you don't duplicate a solution cell.\n",
    "\n",
    "When you are finished submit this notebook through Canvas."
   ]
  },
  {
   "cell_type": "markdown",
   "metadata": {},
   "source": [
    "# <span style=\"color:steelblue;\">Milestone 8A</span>"
   ]
  },
  {
   "cell_type": "markdown",
   "metadata": {},
   "source": [
    "#### <span style=\"color:steelblue;\">Imports</span>"
   ]
  },
  {
   "cell_type": "markdown",
   "metadata": {},
   "source": [
    "Execute this code cell to import the libraries used for this exam:"
   ]
  },
  {
   "cell_type": "code",
   "execution_count": null,
   "metadata": {
    "deletable": false,
    "editable": false,
    "nbgrader": {
     "cell_type": "code",
     "checksum": "50f7fbb3105c716c5acef7f28fe829f0",
     "grade": false,
     "grade_id": "cell-6ea87d015c74f30f",
     "locked": true,
     "schema_version": 3,
     "solution": false,
     "task": false
    }
   },
   "outputs": [],
   "source": [
    "import os\n",
    "import shutil"
   ]
  },
  {
   "cell_type": "markdown",
   "metadata": {},
   "source": [
    "#### <span style=\"color:steelblue;\">Directory</span>"
   ]
  },
  {
   "cell_type": "markdown",
   "metadata": {},
   "source": [
    "The exercises in this exam are based on a folder named `greeks` that is created by unzipping a file named `greeks.zip`.  Make sure the zip file is in the same directory as this notebook, then execute this code cell to unzip the file: "
   ]
  },
  {
   "cell_type": "code",
   "execution_count": null,
   "metadata": {
    "deletable": false,
    "editable": false,
    "nbgrader": {
     "cell_type": "code",
     "checksum": "6c324198504761cc4e46bd41790b3665",
     "grade": false,
     "grade_id": "cell-8e56dbb0385e8bb3",
     "locked": true,
     "schema_version": 3,
     "solution": false,
     "task": false
    }
   },
   "outputs": [],
   "source": [
    "! rm -rf greeks\n",
    "! unzip -qq greeks.zip"
   ]
  },
  {
   "cell_type": "markdown",
   "metadata": {},
   "source": [
    "**Note:**  Some of the code you write for the exam will update the folder.  If you need to restore the folder to its original condition (_e.g._ before running a test) simply execute the code cell again to delete the current folder and unzip a new copy."
   ]
  },
  {
   "cell_type": "markdown",
   "metadata": {},
   "source": [
    "### <span style=\"color:steelblue;\">Count Folders</span>"
   ]
  },
  {
   "cell_type": "markdown",
   "metadata": {},
   "source": [
    "Fill in the definition of the function named `count_folders`.  It will be passed a string that is the path to a directory, and it should return the number of subdirectories found there."
   ]
  },
  {
   "cell_type": "code",
   "execution_count": 17,
   "metadata": {
    "deletable": false,
    "nbgrader": {
     "cell_type": "code",
     "checksum": "c7699df82c69c2f038fcf4962e3931b0",
     "grade": true,
     "grade_id": "count_folders",
     "locked": false,
     "points": 3,
     "schema_version": 3,
     "solution": true,
     "task": false
    }
   },
   "outputs": [],
   "source": [
    "! rm -rf greeks\n",
    "! unzip -qq greeks.zip\n",
    "\n",
    "import os\n",
    "import shutil\n",
    "\n",
    "def count_folders(dirname):\n",
    "    foldersLst = []\n",
    "    numFol = 0\n",
    "    \n",
    "    for name in os.listdir(dirname):\n",
    "        filepath = os.path.join(dirname, name)\n",
    "        \n",
    "        if os.path.isdir(filepath):\n",
    "            foldersLst.append(name)\n",
    "    numFol += len(foldersLst)\n",
    "    print(foldersLst)\n",
    "    \n",
    "    print('number of subdirectories within', dirname,':', numFol)\n",
    "    return(numFol)"
   ]
  },
  {
   "cell_type": "markdown",
   "metadata": {},
   "source": [
    "#### Sandbox "
   ]
  },
  {
   "cell_type": "markdown",
   "metadata": {},
   "source": [
    "You can use this code cell to test your function."
   ]
  },
  {
   "cell_type": "code",
   "execution_count": null,
   "metadata": {},
   "outputs": [],
   "source": []
  },
  {
   "cell_type": "markdown",
   "metadata": {},
   "source": [
    "#### Tests "
   ]
  },
  {
   "cell_type": "code",
   "execution_count": 15,
   "metadata": {
    "deletable": false,
    "editable": false,
    "nbgrader": {
     "cell_type": "code",
     "checksum": "27791aa690a4063496baa1d1a1a13a9b",
     "grade": true,
     "grade_id": "cell-c15edd738dd23525",
     "locked": true,
     "points": 1,
     "schema_version": 3,
     "solution": false,
     "task": false
    }
   },
   "outputs": [
    {
     "name": "stdout",
     "output_type": "stream",
     "text": [
      "['alpha', 'beta', 'chi', 'delta', 'epsilon', 'gamma']\n",
      "number of subdirectories within greeks : 6\n"
     ]
    }
   ],
   "source": [
    "assert count_folders('greeks') == 6"
   ]
  },
  {
   "cell_type": "markdown",
   "metadata": {},
   "source": [
    "### <span style=\"color:steelblue;\">Create Subdirectory</span>"
   ]
  },
  {
   "cell_type": "markdown",
   "metadata": {},
   "source": [
    "Fill in the definition of the function `create_subdirectory` so it adds a new directory to an existing directory.  The parameters passed to the function will be the path to the existing directory and a string that will be the name of the new subdirectory.\n",
    "\n",
    "The function should check to see if the subdirectory exists already.  If so, it should print an error message and return False.  Otherwise it should create the directory and return True.\n",
    "\n",
    "Examples:\n",
    "```\n",
    ">>> create_subdirectory('greeks', 'consonants')\n",
    "True\n",
    "\n",
    ">>> create_subdirectory('greeks','alpha')\n",
    "directory exists\n",
    "False\n",
    "```"
   ]
  },
  {
   "cell_type": "code",
   "execution_count": 4,
   "metadata": {
    "deletable": false,
    "nbgrader": {
     "cell_type": "code",
     "checksum": "98168f3b56ab27fdf9122fecfbeb1cd7",
     "grade": true,
     "grade_id": "create_subdir",
     "locked": false,
     "points": 3,
     "schema_version": 3,
     "solution": true,
     "task": false
    }
   },
   "outputs": [],
   "source": [
    "import os\n",
    "import shutil\n",
    "\n",
    "! rm -rf greeks\n",
    "! unzip -qq greeks.zip\n",
    "\n",
    "def create_subdirectory(dirname,subname):\n",
    "    filepath = os.path.join(dirname, subname)\n",
    "    \n",
    "    if not os.path.isdir(filepath):\n",
    "        os.mkdir(filepath)\n",
    "        print('subdirectory created:', filepath)\n",
    "        return True\n",
    "    \n",
    "    else:\n",
    "        print('subdirectory already exists:', filepath)\n",
    "        return False\n",
    "    "
   ]
  },
  {
   "cell_type": "markdown",
   "metadata": {},
   "source": [
    "#### Sandbox "
   ]
  },
  {
   "cell_type": "code",
   "execution_count": null,
   "metadata": {},
   "outputs": [],
   "source": []
  },
  {
   "cell_type": "markdown",
   "metadata": {},
   "source": [
    "#### Tests "
   ]
  },
  {
   "cell_type": "markdown",
   "metadata": {},
   "source": [
    "These test cells will create two new subdirectories in `greeks`.  The first two calls to `create_subdirectory` should succeed, the third is expected to fail because there is already a folder with that name."
   ]
  },
  {
   "cell_type": "code",
   "execution_count": 5,
   "metadata": {
    "deletable": false,
    "editable": false,
    "nbgrader": {
     "cell_type": "code",
     "checksum": "e62b9f84b07ebe710cd97c0eb4bcf431",
     "grade": true,
     "grade_id": "cell-502ea03b0ff7954f",
     "locked": true,
     "points": 1,
     "schema_version": 3,
     "solution": false,
     "task": false
    }
   },
   "outputs": [
    {
     "name": "stdout",
     "output_type": "stream",
     "text": [
      "subdirectory created: greeks/consonants\n",
      "subdirectory created: greeks/vowels\n"
     ]
    }
   ],
   "source": [
    "assert create_subdirectory('greeks','consonants') and create_subdirectory('greeks','vowels')"
   ]
  },
  {
   "cell_type": "code",
   "execution_count": 6,
   "metadata": {
    "deletable": false,
    "editable": false,
    "nbgrader": {
     "cell_type": "code",
     "checksum": "2872c38e7f0589f508d01eb646412aa4",
     "grade": true,
     "grade_id": "cell-8b2d8e1f349d6592",
     "locked": true,
     "points": 1,
     "schema_version": 3,
     "solution": false,
     "task": false
    }
   },
   "outputs": [],
   "source": [
    "for d in ['consonants', 'vowels']:\n",
    "    assert d in os.listdir('greeks')"
   ]
  },
  {
   "cell_type": "code",
   "execution_count": 7,
   "metadata": {
    "deletable": false,
    "editable": false,
    "nbgrader": {
     "cell_type": "code",
     "checksum": "a39d296304b69f8a13ff6aaa24f3255e",
     "grade": true,
     "grade_id": "cell-218d6a33fc70f9cd",
     "locked": true,
     "points": 1,
     "schema_version": 3,
     "solution": false,
     "task": false
    }
   },
   "outputs": [
    {
     "name": "stdout",
     "output_type": "stream",
     "text": [
      "subdirectory already exists: greeks/alpha\n"
     ]
    }
   ],
   "source": [
    "assert not create_subdirectory('greeks','alpha')"
   ]
  },
  {
   "cell_type": "markdown",
   "metadata": {},
   "source": [
    "### <span style=\"color:steelblue;\">Move Files</span>"
   ]
  },
  {
   "cell_type": "markdown",
   "metadata": {},
   "source": [
    "Fill in the body of the `move_files` function.  It will be passed two directory names.  The function should move all the items in the first directory to the second directory.\n",
    "\n",
    "Example: to move all the files in `alpha` to `vowels` the call will be\n",
    "```\n",
    ">>> move_files(greeks/alpha, greeks/vowels)\n",
    "```"
   ]
  },
  {
   "cell_type": "code",
   "execution_count": 8,
   "metadata": {
    "deletable": false,
    "nbgrader": {
     "cell_type": "code",
     "checksum": "3e81db98504fa6043751a53d228ba07f",
     "grade": true,
     "grade_id": "move_files",
     "locked": false,
     "points": 3,
     "schema_version": 3,
     "solution": true,
     "task": false
    }
   },
   "outputs": [],
   "source": [
    "def move_files(source, destination):\n",
    "    \n",
    "    if os.path.isdir(source):\n",
    "        for file in os.listdir(source):\n",
    "            shutil.move(source+\"/\"+file, destination)\n",
    "            \n",
    "            print(file, 'from', source, 'moved to:', destination)"
   ]
  },
  {
   "cell_type": "markdown",
   "metadata": {},
   "source": [
    "#### Sandbox "
   ]
  },
  {
   "cell_type": "code",
   "execution_count": null,
   "metadata": {},
   "outputs": [],
   "source": []
  },
  {
   "cell_type": "markdown",
   "metadata": {},
   "source": [
    "#### Tests "
   ]
  },
  {
   "cell_type": "markdown",
   "metadata": {},
   "source": [
    "The first test cell will call the function to move the contents of the `alpha` and `epsilon` folders to `vowels`, then check to see if all the files were moved."
   ]
  },
  {
   "cell_type": "code",
   "execution_count": 9,
   "metadata": {
    "deletable": false,
    "editable": false,
    "nbgrader": {
     "cell_type": "code",
     "checksum": "15ca0834f8aeb78a28c6655efd279d21",
     "grade": true,
     "grade_id": "cell-0512dbcf1a8b875d",
     "locked": true,
     "points": 1,
     "schema_version": 3,
     "solution": false,
     "task": false
    }
   },
   "outputs": [
    {
     "name": "stdout",
     "output_type": "stream",
     "text": [
      "aedesia.txt from greeks/alpha moved to: greeks/vowels\n",
      "aristotle.txt from greeks/alpha moved to: greeks/vowels\n",
      "epictetus.txt from greeks/epsilon moved to: greeks/vowels\n",
      "epicurus.txt from greeks/epsilon moved to: greeks/vowels\n",
      "euclid.txt from greeks/epsilon moved to: greeks/vowels\n"
     ]
    }
   ],
   "source": [
    "move_files('greeks/alpha', 'greeks/vowels')\n",
    "move_files('greeks/epsilon', 'greeks/vowels')\n",
    "assert len(os.listdir('greeks/vowels')) == 5"
   ]
  },
  {
   "cell_type": "markdown",
   "metadata": {},
   "source": [
    "The second test moves the contents of the other folders to `consonants`."
   ]
  },
  {
   "cell_type": "code",
   "execution_count": 10,
   "metadata": {
    "deletable": false,
    "editable": false,
    "nbgrader": {
     "cell_type": "code",
     "checksum": "3fb5fc951c05a5d04161032baec108a1",
     "grade": true,
     "grade_id": "cell-16cb5e51959e23aa",
     "locked": true,
     "points": 1,
     "schema_version": 3,
     "solution": false,
     "task": false
    }
   },
   "outputs": [
    {
     "name": "stdout",
     "output_type": "stream",
     "text": [
      "basilides.txt from greeks/beta moved to: greeks/consonants\n",
      "diogenes.txt from greeks/delta moved to: greeks/consonants\n"
     ]
    }
   ],
   "source": [
    "for dirname in ['beta', 'chi', 'delta', 'gamma']:\n",
    "    source = os.path.join('greeks', dirname)\n",
    "    move_files(source, 'greeks/consonants')\n",
    "assert len(os.listdir('greeks/consonants')) == 2"
   ]
  },
  {
   "cell_type": "markdown",
   "metadata": {},
   "source": [
    "\n",
    "\n",
    "### <span style=\"color:steelblue;\">Remove Empty Directories</span>"
   ]
  },
  {
   "cell_type": "markdown",
   "metadata": {},
   "source": [
    "Fill in the body of the function named `delete_empty` so it finds and deletes all the empty subdirectories in a directory.  It should return a list of names of each subdirectory that was deleted.\n",
    "\n",
    "We'll test the function by calling `delete_empty(greeks)`.  At this point all of the original subdirectories should be empty so they should all be deleted:\n",
    "```\n",
    ">>> delete_empty('greeks')\n",
    "['greeks/beta', 'greeks/chi', 'greeks/delta', 'greeks/gamma', 'greeks/epsilon', 'greeks/alpha']\n",
    "```\n",
    "\n",
    "Note: the names in the list can be in any order."
   ]
  },
  {
   "cell_type": "code",
   "execution_count": null,
   "metadata": {
    "deletable": false,
    "nbgrader": {
     "cell_type": "code",
     "checksum": "e81404eb523a8232c39188cf1783e673",
     "grade": true,
     "grade_id": "delete_empty",
     "locked": false,
     "points": 3,
     "schema_version": 3,
     "solution": true,
     "task": false
    }
   },
   "outputs": [],
   "source": [
    "def delete_empty(dirname):\n",
    "    emptyFol = [] #list of which filepaths are empty\n",
    "    \n",
    "    for folder in os.listdir(dirname):\n",
    "        filepath = os.path.join(dirname, folder)\n",
    "        \n",
    "        if os.path.isdir(filepath):\n",
    "            if len(os.listdir(filepath)) == 0:\n",
    "                emptyFol.append(filepath)\n",
    "                os.rmdir(filepath)\n",
    "                print(filepath, 'removed sucessfully!')\n",
    "    return emptyFol"
   ]
  },
  {
   "cell_type": "markdown",
   "metadata": {},
   "source": [
    "#### Sandbox "
   ]
  },
  {
   "cell_type": "code",
   "execution_count": null,
   "metadata": {},
   "outputs": [],
   "source": []
  },
  {
   "cell_type": "markdown",
   "metadata": {},
   "source": [
    "#### Test "
   ]
  },
  {
   "cell_type": "markdown",
   "metadata": {},
   "source": [
    "The first test should return the list of all the original directories.  The second should return an empty list because there shouldn't be any empty directories left."
   ]
  },
  {
   "cell_type": "code",
   "execution_count": null,
   "metadata": {
    "deletable": false,
    "editable": false,
    "nbgrader": {
     "cell_type": "code",
     "checksum": "d65e50cbaf851566a0570f212cda1dfd",
     "grade": true,
     "grade_id": "cell-230a0e7056359dc6",
     "locked": true,
     "points": 1,
     "schema_version": 3,
     "solution": false,
     "task": false
    }
   },
   "outputs": [],
   "source": [
    "lst = delete_empty('greeks')\n",
    "assert len(lst) == 6\n",
    "assert 'greeks/alpha' in lst"
   ]
  },
  {
   "cell_type": "code",
   "execution_count": null,
   "metadata": {
    "deletable": false,
    "editable": false,
    "nbgrader": {
     "cell_type": "code",
     "checksum": "454d0f3a136eba8fb55809cd86847585",
     "grade": true,
     "grade_id": "cell-985cd3c8ca5adff8",
     "locked": true,
     "points": 1,
     "schema_version": 3,
     "solution": false,
     "task": false
    }
   },
   "outputs": [],
   "source": [
    "assert delete_empty('greeks') == []"
   ]
  }
 ],
 "metadata": {
  "kernelspec": {
   "display_name": "Python 3",
   "language": "python",
   "name": "python3"
  },
  "language_info": {
   "codemirror_mode": {
    "name": "ipython",
    "version": 3
   },
   "file_extension": ".py",
   "mimetype": "text/x-python",
   "name": "python",
   "nbconvert_exporter": "python",
   "pygments_lexer": "ipython3",
   "version": "3.7.3"
  },
  "nteract": {
   "version": "0.15.0"
  },
  "varInspector": {
   "cols": {
    "lenName": 16,
    "lenType": 16,
    "lenVar": 40
   },
   "kernels_config": {
    "python": {
     "delete_cmd_postfix": "",
     "delete_cmd_prefix": "del ",
     "library": "var_list.py",
     "varRefreshCmd": "print(var_dic_list())"
    },
    "r": {
     "delete_cmd_postfix": ") ",
     "delete_cmd_prefix": "rm(",
     "library": "var_list.r",
     "varRefreshCmd": "cat(var_dic_list()) "
    }
   },
   "types_to_exclude": [
    "module",
    "function",
    "builtin_function_or_method",
    "instance",
    "_Feature"
   ],
   "window_display": false
  }
 },
 "nbformat": 4,
 "nbformat_minor": 4
}
