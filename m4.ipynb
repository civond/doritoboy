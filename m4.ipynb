{
 "cells": [
  {
   "cell_type": "markdown",
   "metadata": {},
   "source": [
    "#### Bi 410/510 (Fall 2019)"
   ]
  },
  {
   "cell_type": "markdown",
   "metadata": {},
   "source": [
    "Before you turn this problem in, make sure everything runs as expected. First, **restart the kernel** (in the menubar, select Kernel$\\rightarrow$Restart) and then **run all cells** (in the menubar, select Cell$\\rightarrow$Run All).\n",
    "\n",
    "Make sure you fill in any place that says `YOUR CODE HERE` or \"YOUR ANSWER HERE\".\n",
    "\n",
    "When you are finished submit this notebook through Canvas."
   ]
  },
  {
   "cell_type": "markdown",
   "metadata": {},
   "source": [
    "# <span style=\"color:steelblue;\">Milestone 4a</span>"
   ]
  },
  {
   "cell_type": "markdown",
   "metadata": {},
   "source": [
    "### <span style=\"color:steelblue;\">GC Content</span>"
   ]
  },
  {
   "cell_type": "markdown",
   "metadata": {},
   "source": [
    "Implement a function named `gc_content` that computes the GC content of a DNA sequence (the percentage of bases that are either Gs or Cs), rounded to two significant digits. \n",
    "\n",
    "**Do not use the `count` method.** Instead, write a single for loop that checks each letter in the input string and updates a counter if a letter is a G or a C. \n",
    "\n",
    "Example:\n",
    "```\n",
    ">>> gc('GATTACA')\n",
    "28.57\n",
    "```"
   ]
  },
  {
   "cell_type": "code",
   "execution_count": 1,
   "metadata": {
    "deletable": false,
    "nbgrader": {
     "cell_type": "code",
     "checksum": "0112a625ed8ba6e4d2e654a4259905eb",
     "grade": true,
     "grade_id": "gc_4a",
     "locked": false,
     "points": 3,
     "schema_version": 3,
     "solution": true,
     "task": false
    }
   },
   "outputs": [],
   "source": [
    "def gc(seq):\n",
    "    # YOUR CODE HERE\n",
    "    gc_count = 0\n",
    "    for gc in seq:\n",
    "        if gc == 'G':\n",
    "            gc_count = gc_count + 1\n",
    "        if gc == 'C':\n",
    "            gc_count = gc_count + 1\n",
    "    s_length = len(seq)\n",
    "    \n",
    "    percentage = (float(gc_count)/s_length)*100\n",
    "    return round(percentage,2)"
   ]
  },
  {
   "cell_type": "markdown",
   "metadata": {},
   "source": [
    "##### Tests "
   ]
  },
  {
   "cell_type": "markdown",
   "metadata": {},
   "source": [
    "Use this code cell to test your function as you write it."
   ]
  },
  {
   "cell_type": "code",
   "execution_count": 3,
   "metadata": {},
   "outputs": [],
   "source": [
    "def gc(seq):\n",
    "    # YOUR CODE HERE"
   ]
  },
  {
   "cell_type": "markdown",
   "metadata": {},
   "source": [
    "We'll use these code cells to check your code."
   ]
  },
  {
   "cell_type": "code",
   "execution_count": 2,
   "metadata": {
    "deletable": false,
    "editable": false,
    "nbgrader": {
     "cell_type": "code",
     "checksum": "76bee44241377fdfda6dc6b463ed4cf1",
     "grade": true,
     "grade_id": "cell-425fdb370cea0bad",
     "locked": true,
     "points": 1,
     "schema_version": 3,
     "solution": false,
     "task": false
    }
   },
   "outputs": [
    {
     "ename": "UnboundLocalError",
     "evalue": "local variable 'gc_count' referenced before assignment",
     "output_type": "error",
     "traceback": [
      "\u001b[0;31m---------------------------------------------------------------------------\u001b[0m",
      "\u001b[0;31mUnboundLocalError\u001b[0m                         Traceback (most recent call last)",
      "\u001b[0;32m<ipython-input-2-57cb6e090ab0>\u001b[0m in \u001b[0;36m<module>\u001b[0;34m\u001b[0m\n\u001b[0;32m----> 1\u001b[0;31m \u001b[0;32massert\u001b[0m \u001b[0mgc\u001b[0m\u001b[0;34m(\u001b[0m\u001b[0;34m'GATTACA'\u001b[0m\u001b[0;34m)\u001b[0m \u001b[0;34m==\u001b[0m \u001b[0;36m28.57\u001b[0m\u001b[0;34m\u001b[0m\u001b[0;34m\u001b[0m\u001b[0m\n\u001b[0m",
      "\u001b[0;32m<ipython-input-1-889c41a7cc53>\u001b[0m in \u001b[0;36mgc\u001b[0;34m(seq)\u001b[0m\n\u001b[1;32m      4\u001b[0m     \u001b[0;32mfor\u001b[0m \u001b[0mgc\u001b[0m \u001b[0;32min\u001b[0m \u001b[0mseq\u001b[0m\u001b[0;34m:\u001b[0m\u001b[0;34m\u001b[0m\u001b[0;34m\u001b[0m\u001b[0m\n\u001b[1;32m      5\u001b[0m         \u001b[0;32mif\u001b[0m \u001b[0mgc\u001b[0m \u001b[0;34m==\u001b[0m \u001b[0;34m'G'\u001b[0m\u001b[0;34m:\u001b[0m\u001b[0;34m\u001b[0m\u001b[0;34m\u001b[0m\u001b[0m\n\u001b[0;32m----> 6\u001b[0;31m             \u001b[0mgc_count\u001b[0m \u001b[0;34m=\u001b[0m \u001b[0mgc_count\u001b[0m \u001b[0;34m+\u001b[0m \u001b[0;36m1\u001b[0m\u001b[0;34m\u001b[0m\u001b[0;34m\u001b[0m\u001b[0m\n\u001b[0m\u001b[1;32m      7\u001b[0m         \u001b[0;32mif\u001b[0m \u001b[0mgc\u001b[0m \u001b[0;34m==\u001b[0m \u001b[0;34m'C'\u001b[0m\u001b[0;34m:\u001b[0m\u001b[0;34m\u001b[0m\u001b[0;34m\u001b[0m\u001b[0m\n\u001b[1;32m      8\u001b[0m             \u001b[0mgc_count\u001b[0m \u001b[0;34m=\u001b[0m \u001b[0mgc_count\u001b[0m \u001b[0;34m+\u001b[0m \u001b[0;36m1\u001b[0m\u001b[0;34m\u001b[0m\u001b[0;34m\u001b[0m\u001b[0m\n",
      "\u001b[0;31mUnboundLocalError\u001b[0m: local variable 'gc_count' referenced before assignment"
     ]
    }
   ],
   "source": [
    "assert gc('GATTACA') == 28.57"
   ]
  },
  {
   "cell_type": "code",
   "execution_count": 7,
   "metadata": {
    "deletable": false,
    "editable": false,
    "nbgrader": {
     "cell_type": "code",
     "checksum": "7c8be95ecd8c45fef258be514573f884",
     "grade": true,
     "grade_id": "cell-4bd98d4a857264c3",
     "locked": true,
     "points": 1,
     "schema_version": 3,
     "solution": false,
     "task": false
    }
   },
   "outputs": [],
   "source": [
    "assert gc('AAACCCGGGTTT') == 50.0"
   ]
  },
  {
   "cell_type": "code",
   "execution_count": 8,
   "metadata": {
    "deletable": false,
    "editable": false,
    "nbgrader": {
     "cell_type": "code",
     "checksum": "0dbcd8bdf1b75134730e88a8cc1a0a49",
     "grade": true,
     "grade_id": "cell-7529958e880100b4",
     "locked": true,
     "points": 1,
     "schema_version": 3,
     "solution": false,
     "task": false
    }
   },
   "outputs": [],
   "source": [
    "assert gc('AAATTT') == 0.0"
   ]
  },
  {
   "cell_type": "markdown",
   "metadata": {},
   "source": [
    "### <span style=\"color:steelblue;\">Acronym</span>"
   ]
  },
  {
   "cell_type": "markdown",
   "metadata": {},
   "source": [
    "Implement a function named `acronym` that will create an acronym from a list of words.  The result should be a single string that has the first character of each word from the list.\n",
    "\n",
    "Example:\n",
    "```\n",
    ">>> acronym([\"North\", \"Atlantic\", \"Treaty\", \"Organization\"])\n",
    "'NATO'\n",
    "```"
   ]
  },
  {
   "cell_type": "code",
   "execution_count": 2,
   "metadata": {
    "deletable": false,
    "nbgrader": {
     "cell_type": "code",
     "checksum": "e7dc8983d00de9e880c9009bfd6a96dd",
     "grade": true,
     "grade_id": "acronym",
     "locked": false,
     "points": 3,
     "schema_version": 3,
     "solution": true,
     "task": false
    }
   },
   "outputs": [],
   "source": [
    "def acronym(lst):\n",
    "    # YOUR CODE HERE  \n",
    "    for x in lst:\n",
    "        print (''.join(x[0] for x in x.split()))"
   ]
  },
  {
   "cell_type": "markdown",
   "metadata": {},
   "source": [
    "##### Tests "
   ]
  },
  {
   "cell_type": "markdown",
   "metadata": {},
   "source": [
    "Use this code cell to test your function as you write it."
   ]
  },
  {
   "cell_type": "code",
   "execution_count": 32,
   "metadata": {},
   "outputs": [],
   "source": [
    "def acronym(lst):\n",
    "    # YOUR CODE HERE  \n",
    "    returned_string = ''\n",
    "    for x in lst:\n",
    "        returned_string += x[0]\n",
    "    return returned_string"
   ]
  },
  {
   "cell_type": "markdown",
   "metadata": {},
   "source": [
    "We'll use these code cells to check your code."
   ]
  },
  {
   "cell_type": "code",
   "execution_count": 22,
   "metadata": {
    "deletable": false,
    "editable": false,
    "nbgrader": {
     "cell_type": "code",
     "checksum": "500447f0aa781489723aa71fc84d7583",
     "grade": true,
     "grade_id": "cell-996686965e92ca7e",
     "locked": true,
     "points": 1,
     "schema_version": 3,
     "solution": false,
     "task": false
    }
   },
   "outputs": [],
   "source": [
    "assert acronym([\"North\", \"Atlantic\", \"Treaty\", \"Organization\"]) == 'NATO'"
   ]
  },
  {
   "cell_type": "code",
   "execution_count": 23,
   "metadata": {
    "deletable": false,
    "editable": false,
    "nbgrader": {
     "cell_type": "code",
     "checksum": "f8656bbdae5388cc916190c9aa3c615c",
     "grade": true,
     "grade_id": "cell-cdb3e7cce1cffac3",
     "locked": true,
     "points": 1,
     "schema_version": 3,
     "solution": false,
     "task": false
    }
   },
   "outputs": [],
   "source": [
    "assert acronym([\"Martin\", \"Luther\", \"King\"]) == 'MLK'"
   ]
  },
  {
   "cell_type": "markdown",
   "metadata": {},
   "source": [
    "### <span style=\"color:steelblue;\">Birthday Paradox</span>"
   ]
  },
  {
   "cell_type": "markdown",
   "metadata": {},
   "source": [
    "A fun ice-breaker for a new group of people is to have everyone compare birthdays to see if any two people were born on the same day of the year. It may not seem intuitive, but with only 23 people in a group there is a 50\\% chance that two of them will have the same birthday. With a group of 100 the probability that two people will have the same birthday is more than 99.999\\%.\n",
    "\n",
    "To simulate this phenomenon in Python write a function named `paradox`. Create an empty list, and then use a loop that adds numbers to the list. On each iteration:\n",
    "* choose a random number between 1 and 365 (use the `randint` function from the `random` library)\n",
    "* if the number is already in the list exit the loop\n",
    "* otherwise add the number to the list and continue.\n",
    "\n",
    "The function should return the number of times the loop iterates before finding a duplicate. If it will help, you can print the contents of your list and the random number you draw on each loop iteration. Here is a sample output with this more verbose output:\n",
    "```\n",
    ">>> paradox()\n",
    "look for 343 in []\n",
    "look for 130 in [343]\n",
    "look for 271 in [343, 130]\n",
    "look for 192 in [343, 130, 271]\n",
    "look for 97 in [343, 130, 271, 192]\n",
    "look for 322 in [343, 130, 271, 192, 97]\n",
    "look for 271 in [343, 130, 271, 192, 97, 322]\n",
    "6\n",
    "```"
   ]
  },
  {
   "cell_type": "code",
   "execution_count": 3,
   "metadata": {
    "deletable": false,
    "nbgrader": {
     "cell_type": "code",
     "checksum": "0683ea14e8c472655b593b15c2918cab",
     "grade": true,
     "grade_id": "paradox",
     "locked": false,
     "points": 3,
     "schema_version": 3,
     "solution": true,
     "task": false
    }
   },
   "outputs": [],
   "source": [
    "from random import randint\n",
    "\n",
    "def paradox():\n",
    "    lst = []\n",
    "    randint(1,365)\n",
    "   \n",
    "    x = randint(1,365)\n",
    "    \n",
    "    while x not in lst:\n",
    "        print('look for ' + str(x) + ' in ' + str(lst))\n",
    "        lst.append(x)\n",
    "        x = randint(1,365)\n",
    "        \n",
    "    #print('look for ' + str(x) + ' in ' + str(lst))\n",
    "        \n",
    "    return len(lst)\n",
    "\n",
    "    #for x in lst:\n",
    "    \n",
    "        "
   ]
  },
  {
   "cell_type": "markdown",
   "metadata": {},
   "source": [
    "##### Tests "
   ]
  },
  {
   "cell_type": "markdown",
   "metadata": {},
   "source": [
    "Use this code cell to test your function as you write it."
   ]
  },
  {
   "cell_type": "code",
   "execution_count": 121,
   "metadata": {},
   "outputs": [
    {
     "name": "stdout",
     "output_type": "stream",
     "text": [
      "look for 321 in []\n",
      "look for 202 in [321]\n",
      "look for 14 in [321, 202]\n",
      "look for 62 in [321, 202, 14]\n",
      "look for 266 in [321, 202, 14, 62]\n",
      "look for 14 in [321, 202, 14, 62, 266]\n"
     ]
    },
    {
     "data": {
      "text/plain": [
       "5"
      ]
     },
     "execution_count": 121,
     "metadata": {},
     "output_type": "execute_result"
    }
   ],
   "source": [
    "paradox()"
   ]
  },
  {
   "cell_type": "markdown",
   "metadata": {},
   "source": [
    "We'll use these code cells to check your code.  Each time you call your function you should get back a number between 1 and 365."
   ]
  },
  {
   "cell_type": "markdown",
   "metadata": {},
   "source": []
  },
  {
   "cell_type": "code",
   "execution_count": 71,
   "metadata": {
    "deletable": false,
    "editable": false,
    "nbgrader": {
     "cell_type": "code",
     "checksum": "5d2fae3d27b61677a8f5e77a3ee5935e",
     "grade": true,
     "grade_id": "cell-3a430d9c6a27297d",
     "locked": true,
     "points": 2,
     "schema_version": 3,
     "solution": false,
     "task": false
    }
   },
   "outputs": [],
   "source": [
    "for i in range(5):\n",
    "    assert 1 <= paradox() <= 365"
   ]
  },
  {
   "cell_type": "markdown",
   "metadata": {},
   "source": [
    "### <span style=\"color:red;\">Short Answer Question</span>"
   ]
  },
  {
   "cell_type": "markdown",
   "metadata": {},
   "source": [
    "Don't forget to complete the short-answer question on the exam page.\n",
    "\n",
    "Double-click on the markdown cell below and enter your answer in this cell."
   ]
  },
  {
   "cell_type": "markdown",
   "metadata": {
    "deletable": false,
    "nbgrader": {
     "cell_type": "markdown",
     "checksum": "6e2e4ada00d4aab30290d44ac6c9a5ef",
     "grade": true,
     "grade_id": "cell-cd72593eb7ea9d6f",
     "locked": false,
     "points": 4,
     "schema_version": 3,
     "solution": true,
     "task": false
    }
   },
   "source": [
    "1. loop executed 5 times\n",
    "2. when ball is set to 30: char is (ball-1)//15 = 29//15 = 1\n",
    "3. 1 + 30 = 31 (value of message is 31?)"
   ]
  }
 ],
 "metadata": {
  "kernelspec": {
   "display_name": "Python 3",
   "language": "python",
   "name": "python3"
  },
  "language_info": {
   "codemirror_mode": {
    "name": "ipython",
    "version": 3
   },
   "file_extension": ".py",
   "mimetype": "text/x-python",
   "name": "python",
   "nbconvert_exporter": "python",
   "pygments_lexer": "ipython3",
   "version": "3.7.3"
  }
 },
 "nbformat": 4,
 "nbformat_minor": 4
}
