{
 "cells": [
  {
   "cell_type": "markdown",
   "metadata": {},
   "source": [
    "#### Bi 410/510 (Fall 2019)"
   ]
  },
  {
   "cell_type": "markdown",
   "metadata": {},
   "source": [
    "Before you turn this problem in, make sure everything runs as expected. First, **restart the kernel** (in the menubar, select Kernel$\\rightarrow$Restart) and then **run all cells** (in the menubar, select Cell$\\rightarrow$Run All).\n",
    "\n",
    "As you work on the projects write your Python code in the cells that have a comment that says `\"YOUR CODE HERE\"` or `\"YOUR ANSWER HERE\"`.\n",
    "\n",
    "**IMPORTANT:** Do not copy or delete these cells.\n",
    "\n",
    "You can add additional \"sandbox\" cells if you wish, but make sure you don't duplicate a solution cell.\n",
    "\n",
    "When you are finished submit this notebook through Canvas."
   ]
  },
  {
   "cell_type": "markdown",
   "metadata": {},
   "source": [
    "# <span style=\"color:steelblue;\">Milestone 7A</span>"
   ]
  },
  {
   "cell_type": "markdown",
   "metadata": {},
   "source": [
    "### <span style=\"color:steelblue;\">Instructions</span>"
   ]
  },
  {
   "cell_type": "markdown",
   "metadata": {},
   "source": [
    "The data for this exam is in the file named `finances.csv`.  This is the same file used for Milestone 6A.  You can either copy it from the directory you used for that exam or download it from the Bi 410 server.\n",
    " \n",
    "Each line in this file defines one financial transaction, with the following items on each line:\n",
    "* transaction date\n",
    "* payee (usually a business name)\n",
    "* amount\n",
    "* expense category"
   ]
  },
  {
   "cell_type": "markdown",
   "metadata": {},
   "source": [
    "### <span style=\"color:steelblue;\">Imports</span>"
   ]
  },
  {
   "cell_type": "markdown",
   "metadata": {},
   "source": [
    "Execute this code cell to load the libraries for this exam:"
   ]
  },
  {
   "cell_type": "code",
   "execution_count": 2,
   "metadata": {
    "deletable": false,
    "editable": false,
    "nbgrader": {
     "cell_type": "code",
     "checksum": "7705fc3c491a1854eedda023a1867874",
     "grade": false,
     "grade_id": "cell-0bafddfafe6517cc",
     "locked": true,
     "schema_version": 3,
     "solution": false,
     "task": false
    }
   },
   "outputs": [],
   "source": [
    "import pandas as pd\n",
    "import numpy as np\n",
    "import matplotlib.pyplot as plt"
   ]
  },
  {
   "cell_type": "markdown",
   "metadata": {},
   "source": [
    "### <span style=\"color:steelblue;\">Create the Data Frame</span>"
   ]
  },
  {
   "cell_type": "markdown",
   "metadata": {},
   "source": [
    "Use Pandas to read the data and save it as a frame named `spending`."
   ]
  },
  {
   "cell_type": "code",
   "execution_count": 3,
   "metadata": {
    "deletable": false,
    "nbgrader": {
     "cell_type": "code",
     "checksum": "f6fd7365ba3def91c6f67737d76202a5",
     "grade": true,
     "grade_id": "create_spending",
     "locked": false,
     "points": 1,
     "schema_version": 3,
     "solution": true,
     "task": false
    }
   },
   "outputs": [],
   "source": [
    "import pandas as pd\n",
    "import numpy as np\n",
    "import matplotlib.pyplot as plt\n",
    "\n",
    "spending = pd.read_csv('finances7A.csv')    "
   ]
  },
  {
   "cell_type": "markdown",
   "metadata": {},
   "source": [
    "#### Sandbox "
   ]
  },
  {
   "cell_type": "markdown",
   "metadata": {},
   "source": [
    "You can insert code cells here to verify the frame was created successfully.  The first few rows should look like this:\n",
    "```\n",
    "         date  month        description  amount budget\n",
    "0  2016-01-01      1    Diamond Parking    4.00    car\n",
    "1  2016-01-03      1            Safeway   32.78   food\n",
    "2  2016-01-07      1  Bed Bath & Beyond   15.99   home\n",
    "3  2016-01-08      1       Pottery Barn   49.00   home\n",
    "4  2016-01-09      1           Newman's   11.69   food\n",
    "```"
   ]
  },
  {
   "cell_type": "markdown",
   "metadata": {},
   "source": [
    "#### Tests "
   ]
  },
  {
   "cell_type": "markdown",
   "metadata": {},
   "source": [
    "We'll execute this code cell when we grade your exam."
   ]
  },
  {
   "cell_type": "code",
   "execution_count": 4,
   "metadata": {
    "deletable": false,
    "editable": false,
    "nbgrader": {
     "cell_type": "code",
     "checksum": "d72ae161073aea71c62730dc6ad2b807",
     "grade": true,
     "grade_id": "cell-93f56bc84cf72614",
     "locked": true,
     "points": 1,
     "schema_version": 3,
     "solution": false,
     "task": false
    }
   },
   "outputs": [],
   "source": [
    "assert len(spending) == 253\n",
    "assert len(spending.columns == 5)"
   ]
  },
  {
   "cell_type": "markdown",
   "metadata": {},
   "source": [
    "### <span style=\"color:steelblue;\">Amount Spent in Each Category</span>"
   ]
  },
  {
   "cell_type": "markdown",
   "metadata": {},
   "source": [
    "Use the code cell below to create a frame named `expenses` that shows the total amount spent in each budget category:\n",
    "```\n",
    "car      1424.10\n",
    "food     3998.48\n",
    "...\n",
    "```"
   ]
  },
  {
   "cell_type": "code",
   "execution_count": 5,
   "metadata": {
    "deletable": false,
    "nbgrader": {
     "cell_type": "code",
     "checksum": "3e43358cbf5bb603f2783a3bb789a6ae",
     "grade": true,
     "grade_id": "group_by_budget",
     "locked": false,
     "points": 2,
     "schema_version": 3,
     "solution": true,
     "task": false
    }
   },
   "outputs": [
    {
     "name": "stdout",
     "output_type": "stream",
     "text": [
      "Index(['car', 'food', 'home'], dtype='object', name='budget')\n"
     ]
    }
   ],
   "source": [
    "expenses = spending.groupby('budget').sum().drop(columns=['month']).amount\n",
    "print(expenses.keys())"
   ]
  },
  {
   "cell_type": "markdown",
   "metadata": {},
   "source": [
    "#### Sandbox "
   ]
  },
  {
   "cell_type": "markdown",
   "metadata": {},
   "source": [
    "You can insert code cells here to verify the frame was created successfully. "
   ]
  },
  {
   "cell_type": "code",
   "execution_count": null,
   "metadata": {},
   "outputs": [],
   "source": []
  },
  {
   "cell_type": "markdown",
   "metadata": {},
   "source": [
    "#### Tests "
   ]
  },
  {
   "cell_type": "code",
   "execution_count": 6,
   "metadata": {
    "deletable": false,
    "editable": false,
    "nbgrader": {
     "cell_type": "code",
     "checksum": "ffa54f8a5a09d4d0034a44de60e5bd98",
     "grade": true,
     "grade_id": "cell-5f331f14558c6209",
     "locked": true,
     "points": 1,
     "schema_version": 3,
     "solution": false,
     "task": false
    }
   },
   "outputs": [],
   "source": [
    "assert len(expenses) == 3"
   ]
  },
  {
   "cell_type": "code",
   "execution_count": 7,
   "metadata": {
    "deletable": false,
    "editable": false,
    "nbgrader": {
     "cell_type": "code",
     "checksum": "d7a765947885369a10ca80adae6837c5",
     "grade": true,
     "grade_id": "cell-eb9ace7e532279df",
     "locked": true,
     "points": 1,
     "schema_version": 3,
     "solution": false,
     "task": false
    }
   },
   "outputs": [],
   "source": [
    "assert round(expenses.car,2) == 1424.10\n",
    "assert round(expenses.food,2) == 3998.48\n",
    "assert round(expenses.home,2) == 2560.04"
   ]
  },
  {
   "cell_type": "markdown",
   "metadata": {},
   "source": [
    "### <span style=\"color:steelblue;\">Annual Spending</span>"
   ]
  },
  {
   "cell_type": "markdown",
   "metadata": {},
   "source": [
    "Use the code cell below to create a frame named `monthly` that will show the total amount spent each month:\n",
    "```\n",
    "1    788.09\n",
    "2    597.19\n",
    "3    685.79\n",
    "...\n",
    "12   578.48\n",
    "```"
   ]
  },
  {
   "cell_type": "code",
   "execution_count": 8,
   "metadata": {
    "deletable": false,
    "nbgrader": {
     "cell_type": "code",
     "checksum": "af98907df1419ef06dbcf4f61b831f99",
     "grade": true,
     "grade_id": "group_by_month",
     "locked": false,
     "points": 2,
     "schema_version": 3,
     "solution": true,
     "task": false
    }
   },
   "outputs": [
    {
     "name": "stdout",
     "output_type": "stream",
     "text": [
      "Int64Index([1, 2, 3, 4, 5, 6, 7, 8, 9, 10, 11, 12], dtype='int64', name='month')\n"
     ]
    }
   ],
   "source": [
    "monthly = spending.groupby(['month']).sum().amount\n",
    "print(monthly.keys())"
   ]
  },
  {
   "cell_type": "markdown",
   "metadata": {},
   "source": [
    "#### Sandbox "
   ]
  },
  {
   "cell_type": "markdown",
   "metadata": {},
   "source": [
    "You can insert code cells here to verify the frame was created successfully. "
   ]
  },
  {
   "cell_type": "code",
   "execution_count": null,
   "metadata": {},
   "outputs": [],
   "source": []
  },
  {
   "cell_type": "markdown",
   "metadata": {},
   "source": [
    "#### Tests "
   ]
  },
  {
   "cell_type": "code",
   "execution_count": 9,
   "metadata": {
    "deletable": false,
    "editable": false,
    "nbgrader": {
     "cell_type": "code",
     "checksum": "87bf4384baa6f322876dbfa084747e10",
     "grade": true,
     "grade_id": "cell-c8b715242fcfda4f",
     "locked": true,
     "points": 1,
     "schema_version": 3,
     "solution": false,
     "task": false
    }
   },
   "outputs": [],
   "source": [
    "assert len(monthly) == 12"
   ]
  },
  {
   "cell_type": "code",
   "execution_count": 10,
   "metadata": {
    "deletable": false,
    "editable": false,
    "nbgrader": {
     "cell_type": "code",
     "checksum": "f83b0f1bf3a0589b4c0acca66cb444dc",
     "grade": true,
     "grade_id": "cell-78a12b46e85c4241",
     "locked": true,
     "points": 1,
     "schema_version": 3,
     "solution": false,
     "task": false
    }
   },
   "outputs": [],
   "source": [
    "assert round(monthly.loc[1],2) == 788.09\n",
    "assert round(monthly.loc[12],2) == 578.48"
   ]
  },
  {
   "cell_type": "markdown",
   "metadata": {},
   "source": [
    "### <span style=\"color:steelblue;\">Pivot Table</span>"
   ]
  },
  {
   "cell_type": "markdown",
   "metadata": {},
   "source": [
    "Use the code cell below to create a frame named `table` that shows the monthly expenses in each budget category:\n",
    "```\n",
    "budget     car    food    home\n",
    "month                         \n",
    "1        82.29  344.77  361.03\n",
    "2        79.01  392.05  126.13\n",
    "3       147.22  336.54  202.03\n",
    "...\n",
    "12      152.50  246.70  179.28\n",
    "```"
   ]
  },
  {
   "cell_type": "code",
   "execution_count": 11,
   "metadata": {
    "deletable": false,
    "nbgrader": {
     "cell_type": "code",
     "checksum": "6ac8d6e3a121964caba7861adc1e6ad1",
     "grade": true,
     "grade_id": "pivot_table",
     "locked": false,
     "points": 2,
     "schema_version": 3,
     "solution": true,
     "task": false
    }
   },
   "outputs": [
    {
     "data": {
      "text/html": [
       "<div>\n",
       "<style scoped>\n",
       "    .dataframe tbody tr th:only-of-type {\n",
       "        vertical-align: middle;\n",
       "    }\n",
       "\n",
       "    .dataframe tbody tr th {\n",
       "        vertical-align: top;\n",
       "    }\n",
       "\n",
       "    .dataframe thead th {\n",
       "        text-align: right;\n",
       "    }\n",
       "</style>\n",
       "<table border=\"1\" class=\"dataframe\">\n",
       "  <thead>\n",
       "    <tr style=\"text-align: right;\">\n",
       "      <th>budget</th>\n",
       "      <th>car</th>\n",
       "      <th>food</th>\n",
       "      <th>home</th>\n",
       "    </tr>\n",
       "    <tr>\n",
       "      <th>month</th>\n",
       "      <th></th>\n",
       "      <th></th>\n",
       "      <th></th>\n",
       "    </tr>\n",
       "  </thead>\n",
       "  <tbody>\n",
       "    <tr>\n",
       "      <td>1</td>\n",
       "      <td>82.29</td>\n",
       "      <td>344.77</td>\n",
       "      <td>361.03</td>\n",
       "    </tr>\n",
       "    <tr>\n",
       "      <td>2</td>\n",
       "      <td>79.01</td>\n",
       "      <td>392.05</td>\n",
       "      <td>126.13</td>\n",
       "    </tr>\n",
       "    <tr>\n",
       "      <td>3</td>\n",
       "      <td>147.22</td>\n",
       "      <td>336.54</td>\n",
       "      <td>202.03</td>\n",
       "    </tr>\n",
       "    <tr>\n",
       "      <td>4</td>\n",
       "      <td>79.93</td>\n",
       "      <td>404.86</td>\n",
       "      <td>154.81</td>\n",
       "    </tr>\n",
       "    <tr>\n",
       "      <td>5</td>\n",
       "      <td>69.91</td>\n",
       "      <td>339.25</td>\n",
       "      <td>102.51</td>\n",
       "    </tr>\n",
       "    <tr>\n",
       "      <td>6</td>\n",
       "      <td>133.23</td>\n",
       "      <td>448.00</td>\n",
       "      <td>248.72</td>\n",
       "    </tr>\n",
       "    <tr>\n",
       "      <td>7</td>\n",
       "      <td>128.29</td>\n",
       "      <td>295.00</td>\n",
       "      <td>224.73</td>\n",
       "    </tr>\n",
       "    <tr>\n",
       "      <td>8</td>\n",
       "      <td>126.93</td>\n",
       "      <td>234.72</td>\n",
       "      <td>167.40</td>\n",
       "    </tr>\n",
       "    <tr>\n",
       "      <td>9</td>\n",
       "      <td>228.05</td>\n",
       "      <td>382.82</td>\n",
       "      <td>299.90</td>\n",
       "    </tr>\n",
       "    <tr>\n",
       "      <td>10</td>\n",
       "      <td>112.72</td>\n",
       "      <td>282.29</td>\n",
       "      <td>434.63</td>\n",
       "    </tr>\n",
       "    <tr>\n",
       "      <td>11</td>\n",
       "      <td>84.02</td>\n",
       "      <td>291.48</td>\n",
       "      <td>58.87</td>\n",
       "    </tr>\n",
       "    <tr>\n",
       "      <td>12</td>\n",
       "      <td>152.50</td>\n",
       "      <td>246.70</td>\n",
       "      <td>179.28</td>\n",
       "    </tr>\n",
       "  </tbody>\n",
       "</table>\n",
       "</div>"
      ],
      "text/plain": [
       "budget     car    food    home\n",
       "month                         \n",
       "1        82.29  344.77  361.03\n",
       "2        79.01  392.05  126.13\n",
       "3       147.22  336.54  202.03\n",
       "4        79.93  404.86  154.81\n",
       "5        69.91  339.25  102.51\n",
       "6       133.23  448.00  248.72\n",
       "7       128.29  295.00  224.73\n",
       "8       126.93  234.72  167.40\n",
       "9       228.05  382.82  299.90\n",
       "10      112.72  282.29  434.63\n",
       "11       84.02  291.48   58.87\n",
       "12      152.50  246.70  179.28"
      ]
     },
     "execution_count": 11,
     "metadata": {},
     "output_type": "execute_result"
    }
   ],
   "source": [
    "table = pd.pivot_table(spending, index=['month'], columns='budget', values='amount', aggfunc=np.sum)\n",
    "table"
   ]
  },
  {
   "cell_type": "markdown",
   "metadata": {},
   "source": [
    "#### Sandbox "
   ]
  },
  {
   "cell_type": "markdown",
   "metadata": {},
   "source": [
    "You can insert code cells here to verify the frame was created successfully. "
   ]
  },
  {
   "cell_type": "code",
   "execution_count": null,
   "metadata": {},
   "outputs": [],
   "source": []
  },
  {
   "cell_type": "markdown",
   "metadata": {},
   "source": [
    "#### Tests "
   ]
  },
  {
   "cell_type": "code",
   "execution_count": 74,
   "metadata": {
    "deletable": false,
    "editable": false,
    "nbgrader": {
     "cell_type": "code",
     "checksum": "949f1c635731648db7defb20edbe52ef",
     "grade": true,
     "grade_id": "cell-8a42479b558cfb08",
     "locked": true,
     "points": 1,
     "schema_version": 3,
     "solution": false,
     "task": false
    }
   },
   "outputs": [],
   "source": [
    "assert len(table) == 12 and len(table.columns) == 3"
   ]
  },
  {
   "cell_type": "code",
   "execution_count": 75,
   "metadata": {
    "deletable": false,
    "editable": false,
    "nbgrader": {
     "cell_type": "code",
     "checksum": "1b084abe71b0849ff14185f4cf68721b",
     "grade": true,
     "grade_id": "cell-dd71028bb285dae1",
     "locked": true,
     "points": 1,
     "schema_version": 3,
     "solution": false,
     "task": false
    }
   },
   "outputs": [],
   "source": [
    "assert round(table.loc[1].car,2) == 82.29\n",
    "assert round(table.loc[12].home,2) == 179.28"
   ]
  },
  {
   "cell_type": "markdown",
   "metadata": {},
   "source": [
    "### <span style=\"color:steelblue;\">Plot Spending by Category</span>"
   ]
  },
  {
   "cell_type": "markdown",
   "metadata": {},
   "source": [
    "Use the code cell below to produce a bar chart that shows total spending in each category.  You can use either `pandas` or `pyplot` to produce your chart, but the data needs to come from the `spending` data frame.  The plot should have a title and $x$ and $y$ labels, but all other formatting is optional."
   ]
  },
  {
   "cell_type": "markdown",
   "metadata": {},
   "source": [
    "<img src=\"https://pages.uoregon.edu/conery/Bi410/spending_categories_pandas.png\">"
   ]
  },
  {
   "cell_type": "code",
   "execution_count": 12,
   "metadata": {
    "deletable": false,
    "nbgrader": {
     "cell_type": "code",
     "checksum": "a92d9ab4b7ba0406c8d86cecfe365947",
     "grade": true,
     "grade_id": "spending_bar_plot",
     "locked": false,
     "points": 3,
     "schema_version": 3,
     "solution": true,
     "task": false
    }
   },
   "outputs": [
    {
     "data": {
      "text/plain": [
       "<function matplotlib.pyplot.show(*args, **kw)>"
      ]
     },
     "execution_count": 12,
     "metadata": {},
     "output_type": "execute_result"
    },
    {
     "data": {
      "image/png": "[encoded data removed]",
      "text/plain": [
       "<Figure size 432x288 with 1 Axes>"
      ]
     },
     "metadata": {
      "needs_background": "light"
     },
     "output_type": "display_data"
    }
   ],
   "source": [
    "spending.groupby('budget')['amount'].sum().plot.bar(x=['budget'], y=['amount'])\n",
    "plt.title('Spending Categories')\n",
    "plt.xlabel('Budget')\n",
    "plt.ylabel('Amount')\n",
    "plt.show"
   ]
  },
  {
   "cell_type": "markdown",
   "metadata": {},
   "source": [
    "### <span style=\"color:steelblue;\">Plot Annual Spending</span>"
   ]
  },
  {
   "cell_type": "markdown",
   "metadata": {},
   "source": [
    "Fill in the code cell below to generate a graph that shows the total spending over the year, plotting one point per month.  The $x$-axis should show the months, the $y$-axis should be the amount spent in each month.\n",
    "\n",
    "Your plot should look something like this.  You can use either pandas or pyplot to produce your chart, but the data needs to come from the spending data frame.  The plot should have a title and $x$ and $y$ labels, but all other formatting is optional."
   ]
  },
  {
   "cell_type": "markdown",
   "metadata": {},
   "source": [
    "<img src=\"https://pages.uoregon.edu/conery/Bi410/annual_spending_pandas.png\">"
   ]
  },
  {
   "cell_type": "code",
   "execution_count": 77,
   "metadata": {
    "deletable": false,
    "nbgrader": {
     "cell_type": "code",
     "checksum": "e43843427867eb6b4bc540b893d9254d",
     "grade": true,
     "grade_id": "spending_line_plot",
     "locked": false,
     "points": 3,
     "schema_version": 3,
     "solution": true,
     "task": false
    }
   },
   "outputs": [
    {
     "data": {
      "text/plain": [
       "<function matplotlib.pyplot.show(*args, **kw)>"
      ]
     },
     "execution_count": 77,
     "metadata": {},
     "output_type": "execute_result"
    },
    {
     "data": {
      "image/png": "[encoded data removed]",
      "text/plain": [
       "<Figure size 432x288 with 1 Axes>"
      ]
     },
     "metadata": {
      "needs_background": "light"
     },
     "output_type": "display_data"
    }
   ],
   "source": [
    "spending.groupby(['month']).sum().plot.line()\n",
    "plt.title('Annual Spending')\n",
    "plt.xlabel(\"month\")\n",
    "plt.ylabel(\"Amount\")\n",
    "plt.show"
   ]
  }
 ],
 "metadata": {
  "kernelspec": {
   "display_name": "Python 3",
   "language": "python",
   "name": "python3"
  },
  "language_info": {
   "codemirror_mode": {
    "name": "ipython",
    "version": 3
   },
   "file_extension": ".py",
   "mimetype": "text/x-python",
   "name": "python",
   "nbconvert_exporter": "python",
   "pygments_lexer": "ipython3",
   "version": "3.7.3"
  },
  "varInspector": {
   "cols": {
    "lenName": 16,
    "lenType": 16,
    "lenVar": 40
   },
   "kernels_config": {
    "python": {
     "delete_cmd_postfix": "",
     "delete_cmd_prefix": "del ",
     "library": "var_list.py",
     "varRefreshCmd": "print(var_dic_list())"
    },
    "r": {
     "delete_cmd_postfix": ") ",
     "delete_cmd_prefix": "rm(",
     "library": "var_list.r",
     "varRefreshCmd": "cat(var_dic_list()) "
    }
   },
   "types_to_exclude": [
    "module",
    "function",
    "builtin_function_or_method",
    "instance",
    "_Feature"
   ],
   "window_display": false
  }
 },
 "nbformat": 4,
 "nbformat_minor": 4
}
