{
 "cells": [
  {
   "cell_type": "markdown",
   "metadata": {},
   "source": [
    "#### Bi 410/510 (Fall 2019)"
   ]
  },
  {
   "cell_type": "markdown",
   "metadata": {},
   "source": [
    "Before you turn this problem in, make sure everything runs as expected. First, **restart the kernel** (in the menubar, select Kernel$\\rightarrow$Restart) and then **run all cells** (in the menubar, select Cell$\\rightarrow$Run All).\n",
    "\n",
    "Make sure you fill in any place that says `YOUR CODE HERE` or \"YOUR ANSWER HERE\".\n",
    "\n",
    "When you are finished submit this notebook through Canvas."
   ]
  },
  {
   "cell_type": "markdown",
   "metadata": {},
   "source": [
    "# <span style=\"color:steelblue;\">Milestone 5a</span>"
   ]
  },
  {
   "cell_type": "markdown",
   "metadata": {},
   "source": [
    "### <span style=\"color:steelblue;\">Points Scored in a Basketball Game</span>"
   ]
  },
  {
   "cell_type": "markdown",
   "metadata": {},
   "source": [
    "Implement a function named `points_scored` that will read a data file (in CSV format) with scoring data from a basketball game.  Each line in the file will have four pieces of data:\n",
    "* a player's name\n",
    "* the number of 3-point baskets made by that player\n",
    "* the number of 2-point baskets made\n",
    "* the number of free throws (1-point baskets) made\n",
    "\n",
    "Your function should compute the total number of points scored by the entire team.\n",
    "\n",
    "As an example, suppose a file named `demo.csv` has these three lines:\n",
    "```\n",
    "ron,1,1,1\n",
    "neville,0,0,5\n",
    "cho,3,0,3\n",
    "```\n",
    "If we pass this file name to the function, it should return 23 (Ron scored 6 points, Neville scored 5, and Cho scored 12):\n",
    "```\n",
    ">>> points_scored('demo.csv')\n",
    "23\n",
    "```"
   ]
  },
  {
   "cell_type": "code",
   "execution_count": 1,
   "metadata": {
    "deletable": false,
    "nbgrader": {
     "cell_type": "code",
     "checksum": "ae402fc9d8861f0c4a304223756a1873",
     "grade": true,
     "grade_id": "points_scored",
     "locked": false,
     "points": 3,
     "schema_version": 3,
     "solution": true,
     "task": false
    }
   },
   "outputs": [],
   "source": [
    "def points_scored(fn):\n",
    "    # YOUR CODE HERE\n",
    "    total = 0.0\n",
    "    point = []\n",
    "    for point in open(fn):\n",
    "        point = point.split(',')\n",
    "        \n",
    "        t1 = point[1]\n",
    "        t2 = point[2]\n",
    "        t3 = point[3]     \n",
    "    \n",
    "        value = int(t1)*3 + int(t2)*2 + int(t3)*1    \n",
    "        total +=value\n",
    "        \n",
    "    return int(total)\n",
    "       "
   ]
  },
  {
   "cell_type": "markdown",
   "metadata": {},
   "source": [
    "##### Sandbox "
   ]
  },
  {
   "cell_type": "markdown",
   "metadata": {},
   "source": [
    "To test your function you can use `demo.csv`.  The expected result is 23."
   ]
  },
  {
   "cell_type": "code",
   "execution_count": 2,
   "metadata": {},
   "outputs": [
    {
     "ename": "UnboundLocalError",
     "evalue": "local variable 'total' referenced before assignment",
     "output_type": "error",
     "traceback": [
      "\u001b[0;31m---------------------------------------------------------------------------\u001b[0m",
      "\u001b[0;31mUnboundLocalError\u001b[0m                         Traceback (most recent call last)",
      "\u001b[0;32m<ipython-input-2-0969792f44e2>\u001b[0m in \u001b[0;36m<module>\u001b[0;34m\u001b[0m\n\u001b[0;32m----> 1\u001b[0;31m \u001b[0mpoints_scored\u001b[0m\u001b[0;34m(\u001b[0m\u001b[0;34m'demo.csv'\u001b[0m\u001b[0;34m)\u001b[0m\u001b[0;34m\u001b[0m\u001b[0;34m\u001b[0m\u001b[0m\n\u001b[0m",
      "\u001b[0;32m<ipython-input-1-5f04fa66b5ea>\u001b[0m in \u001b[0;36mpoints_scored\u001b[0;34m(fn)\u001b[0m\n\u001b[1;32m     10\u001b[0m \u001b[0;34m\u001b[0m\u001b[0m\n\u001b[1;32m     11\u001b[0m         \u001b[0mvalue\u001b[0m \u001b[0;34m=\u001b[0m \u001b[0mint\u001b[0m\u001b[0;34m(\u001b[0m\u001b[0mt1\u001b[0m\u001b[0;34m)\u001b[0m\u001b[0;34m*\u001b[0m\u001b[0;36m3\u001b[0m \u001b[0;34m+\u001b[0m \u001b[0mint\u001b[0m\u001b[0;34m(\u001b[0m\u001b[0mt2\u001b[0m\u001b[0;34m)\u001b[0m\u001b[0;34m*\u001b[0m\u001b[0;36m2\u001b[0m \u001b[0;34m+\u001b[0m \u001b[0mint\u001b[0m\u001b[0;34m(\u001b[0m\u001b[0mt3\u001b[0m\u001b[0;34m)\u001b[0m\u001b[0;34m*\u001b[0m\u001b[0;36m1\u001b[0m\u001b[0;34m\u001b[0m\u001b[0;34m\u001b[0m\u001b[0m\n\u001b[0;32m---> 12\u001b[0;31m         \u001b[0mtotal\u001b[0m \u001b[0;34m+=\u001b[0m\u001b[0mvalue\u001b[0m\u001b[0;34m\u001b[0m\u001b[0;34m\u001b[0m\u001b[0m\n\u001b[0m\u001b[1;32m     13\u001b[0m \u001b[0;34m\u001b[0m\u001b[0m\n\u001b[1;32m     14\u001b[0m     \u001b[0;32mreturn\u001b[0m \u001b[0mint\u001b[0m\u001b[0;34m(\u001b[0m\u001b[0mtotal\u001b[0m\u001b[0;34m)\u001b[0m\u001b[0;34m\u001b[0m\u001b[0;34m\u001b[0m\u001b[0m\n",
      "\u001b[0;31mUnboundLocalError\u001b[0m: local variable 'total' referenced before assignment"
     ]
    }
   ],
   "source": [
    "points_scored('demo.csv')"
   ]
  },
  {
   "cell_type": "markdown",
   "metadata": {},
   "source": [
    "##### Tests "
   ]
  },
  {
   "cell_type": "code",
   "execution_count": 21,
   "metadata": {
    "deletable": false,
    "editable": false,
    "nbgrader": {
     "cell_type": "code",
     "checksum": "dd7ab0115a32395c340a189e90cfde26",
     "grade": true,
     "grade_id": "cell-2cd8e4a8510203af",
     "locked": true,
     "points": 2,
     "schema_version": 3,
     "solution": false,
     "task": false
    }
   },
   "outputs": [],
   "source": [
    "assert points_scored('game.csv') == 91"
   ]
  },
  {
   "cell_type": "markdown",
   "metadata": {},
   "source": [
    "### <span style=\"color:steelblue;\">Points Dictionary</span>"
   ]
  },
  {
   "cell_type": "markdown",
   "metadata": {},
   "source": [
    "Define a function named `points_dictionary` that will also be passed the name of a CSV file with basketball game data.  This function should return a dictionary that shows how many points each player scored.  The keys will be player names, and the values will be the number of points scored by that player.\n",
    "\n",
    "Example:\n",
    "```\n",
    ">>> points_dictionary('demo.csv')\n",
    "{'ron': 6, 'neville': 5, 'cho': 12}\n",
    "```"
   ]
  },
  {
   "cell_type": "code",
   "execution_count": 3,
   "metadata": {
    "deletable": false,
    "nbgrader": {
     "cell_type": "code",
     "checksum": "e37d5c8c3a12b20bb229a194288fe6a7",
     "grade": true,
     "grade_id": "points_dict",
     "locked": false,
     "points": 3,
     "schema_version": 3,
     "solution": true,
     "task": false
    }
   },
   "outputs": [],
   "source": [
    "def points_dictionary(fn):\n",
    "    \n",
    "    tol_p = 0.0\n",
    "    array = {}\n",
    "    \n",
    "    \n",
    "    for points in open(fn):\n",
    "        tol_p = points.strip().split(',')\n",
    "        \n",
    "        name = tol_p[0] #player name\n",
    "        onePointers = tol_p[1] #1 point baskets\n",
    "        twoPointers = tol_p[2] #2 point baskets\n",
    "        threePointers = tol_p[3] #3 point baskets\n",
    "        \n",
    "        totalPoints = int(onePointers)*3 + int(twoPointers)*2 + int(threePointers)*1\n",
    "    \n",
    "        array.update({name : totalPoints})\n",
    "        \n",
    "        \n",
    "    return array\n",
    "        "
   ]
  },
  {
   "cell_type": "markdown",
   "metadata": {},
   "source": [
    "##### Sandbox "
   ]
  },
  {
   "cell_type": "markdown",
   "metadata": {},
   "source": [
    "def points_dictionary(fn):\n",
    "   \n",
    "   tol_p = 0.0\n",
    "    \n",
    "   for points in open(fn):\n",
    "        tol_p = points.strip().split(',')"
   ]
  },
  {
   "cell_type": "code",
   "execution_count": 4,
   "metadata": {},
   "outputs": [
    {
     "data": {
      "text/plain": [
       "{'sabrina': 28,\n",
       " 'ruthy': 18,\n",
       " 'satou': 10,\n",
       " 'mallory': 9,\n",
       " 'maite': 5,\n",
       " 'anneli': 9,\n",
       " 'aina': 6,\n",
       " 'oti': 4,\n",
       " 'lydia': 2,\n",
       " 'justine': 0,\n",
       " 'sierra': 0}"
      ]
     },
     "execution_count": 4,
     "metadata": {},
     "output_type": "execute_result"
    }
   ],
   "source": [
    "points_dictionary('game.csv')"
   ]
  },
  {
   "cell_type": "markdown",
   "metadata": {},
   "source": [
    "##### Tests "
   ]
  },
  {
   "cell_type": "code",
   "execution_count": 26,
   "metadata": {
    "deletable": false,
    "editable": false,
    "nbgrader": {
     "cell_type": "code",
     "checksum": "fa2b0aeb2328dfd8808dde766148ebcb",
     "grade": true,
     "grade_id": "cell-c99afc74fa61dfbb",
     "locked": true,
     "points": 2,
     "schema_version": 3,
     "solution": false,
     "task": false
    }
   },
   "outputs": [],
   "source": [
    "g = points_dictionary('game.csv')\n",
    "assert len(g) == 11 \n",
    "assert g['sabrina'] == 28\n",
    "assert sum(g.values()) == 91"
   ]
  },
  {
   "cell_type": "markdown",
   "metadata": {},
   "source": [
    "### <span style=\"color:steelblue;\">Key Generator</span>"
   ]
  },
  {
   "cell_type": "markdown",
   "metadata": {},
   "source": [
    "The lecture notes for October 30 (`Dictionaries.ipynb` on Canvas) showed how to encrypt a string using a \"substitution cipher,\" a dictionary that maps letters to the corresponding code letter, for example\n",
    "```\n",
    "{ ’H’: ’N’, ’E’: ’T’, ...}\n",
    "```\n",
    "\n",
    "There are 26 letters in the English alphabet, so this dictionary has 26 entries, one for each letter. \n",
    "\n",
    "Define a function named `key_gen` that will create and print a dictionary like this. The function does not have any inputs. Each time you call it the function should make a random cipher and return it.\n",
    "\n",
    "Example:\n",
    "```\n",
    ">>> key_gen()\n",
    "{’A’: ’Z’, ’B’: ’S’, ’C’: ’B’, ... }\n",
    "```\n",
    "\n",
    "Don’t worry about the order of the key-value pairs, Python is allowed to print them in any order. Just make sure you have 26 pairs in all, with one for each letter of the alphabet."
   ]
  },
  {
   "cell_type": "markdown",
   "metadata": {},
   "source": [
    "#### Hints and Suggestions "
   ]
  },
  {
   "cell_type": "markdown",
   "metadata": {},
   "source": [
    "(1) Use the `ascii_uppercase` string in Python's `string` library.  You can import it with this statement:\n",
    "```\n",
    "from string import ascii_uppercase\n",
    "```\n",
    "\n",
    "(2) If you want to make a list containing each letter in the alphabet this will do it:\n",
    "```\n",
    "alphabet = list(ascii_uppercase)\n",
    "```\n",
    "(try it in a \"sandbox cell\" to make sure it does what you expect).\n",
    "\n",
    "(3) There is a function named `shuffle` in the `random` library that will scramble a list, reorganizing the items into a random order.  Example:\n",
    "```\n",
    "from random import shuffle\n",
    ">>> shuffle(alphabet)\n",
    "```\n",
    "(try that, too)."
   ]
  },
  {
   "cell_type": "code",
   "execution_count": 10,
   "metadata": {
    "deletable": false,
    "nbgrader": {
     "cell_type": "code",
     "checksum": "e3d422910a60cce5ab74b0b4dda9e2cb",
     "grade": true,
     "grade_id": "key_gen",
     "locked": false,
     "points": 4,
     "schema_version": 3,
     "solution": true,
     "task": false
    }
   },
   "outputs": [],
   "source": [
    "from string import ascii_uppercase\n",
    "from random import shuffle\n",
    "\n",
    "def key_gen():\n",
    "    normalAlphabet = list(ascii_uppercase)\n",
    "    shuffledAlphabet = list(ascii_uppercase)\n",
    "    \n",
    "    shuffle(shuffledAlphabet)\n",
    "    cipher = {}\n",
    "    \n",
    "    n = 0    \n",
    "    for item in normalAlphabet:\n",
    "        cipher.update({item : shuffledAlphabet[n]})\n",
    "        n += 1\n",
    "    return cipher\n",
    "    \n",
    "        \n",
    "    "
   ]
  },
  {
   "cell_type": "markdown",
   "metadata": {},
   "source": [
    "##### Sandbox "
   ]
  },
  {
   "cell_type": "markdown",
   "metadata": {},
   "source": [
    "Each time you call your function you should get back a dictionary where the keys are the 26 upper case letters.  The values should also be the 26 letters, but in a random order.  Don't worry if Python prints the dictionary out of order. "
   ]
  },
  {
   "cell_type": "code",
   "execution_count": 15,
   "metadata": {},
   "outputs": [
    {
     "data": {
      "text/plain": [
       "{'A': 'X',\n",
       " 'B': 'W',\n",
       " 'C': 'Y',\n",
       " 'D': 'A',\n",
       " 'E': 'Z',\n",
       " 'F': 'F',\n",
       " 'G': 'I',\n",
       " 'H': 'B',\n",
       " 'I': 'N',\n",
       " 'J': 'Q',\n",
       " 'K': 'M',\n",
       " 'L': 'G',\n",
       " 'M': 'S',\n",
       " 'N': 'P',\n",
       " 'O': 'K',\n",
       " 'P': 'R',\n",
       " 'Q': 'L',\n",
       " 'R': 'O',\n",
       " 'S': 'E',\n",
       " 'T': 'T',\n",
       " 'U': 'V',\n",
       " 'V': 'U',\n",
       " 'W': 'D',\n",
       " 'X': 'C',\n",
       " 'Y': 'J',\n",
       " 'Z': 'H'}"
      ]
     },
     "execution_count": 15,
     "metadata": {},
     "output_type": "execute_result"
    }
   ],
   "source": [
    "key_gen()"
   ]
  },
  {
   "cell_type": "markdown",
   "metadata": {},
   "source": [
    "##### Tests "
   ]
  },
  {
   "cell_type": "markdown",
   "metadata": {},
   "source": [
    "A valid cipher has every letter of the alphabet as a key, and every letter also appears somewhere as a value.  That means the sorted list of keys should be the same as the sorted list of values."
   ]
  },
  {
   "cell_type": "code",
   "execution_count": 16,
   "metadata": {
    "deletable": false,
    "editable": false,
    "nbgrader": {
     "cell_type": "code",
     "checksum": "dccddd7e07b3b7aa0aa6532b33907a81",
     "grade": true,
     "grade_id": "cell-d9e92e4adb474039",
     "locked": true,
     "points": 2,
     "schema_version": 3,
     "solution": false,
     "task": false
    }
   },
   "outputs": [],
   "source": [
    "dct = key_gen()\n",
    "assert len(dct) == 26\n",
    "assert sorted(dct.keys()) == sorted(dct.values())"
   ]
  },
  {
   "cell_type": "markdown",
   "metadata": {},
   "source": [
    "### <span style=\"color:red;\">Short Answer Question</span>"
   ]
  },
  {
   "cell_type": "markdown",
   "metadata": {},
   "source": [
    "Don't forget to complete the short-answer question on the exam page.\n",
    "\n",
    "Double-click on the markdown cell below and enter your answer in this cell."
   ]
  },
  {
   "cell_type": "markdown",
   "metadata": {
    "deletable": false,
    "nbgrader": {
     "cell_type": "markdown",
     "checksum": "f6ec88e38da3faac63fe17733d7318ef",
     "grade": true,
     "grade_id": "cell-0545f0c3cc3f3e4a",
     "locked": false,
     "points": 4,
     "schema_version": 3,
     "solution": true,
     "task": false
    }
   },
   "source": [
    "1. comp is a dictionary and has 4 main pairs (values)\n",
    "2. Returning res will accomplish the following:\n",
    "    it will translate A to T, T to A, G to C, C to G in quotation marks (''). AKA: 'GATTACA' -> 'CTAATGT' (This is DNA transcription)."
   ]
  }
 ],
 "metadata": {
  "kernelspec": {
   "display_name": "Python 3",
   "language": "python",
   "name": "python3"
  },
  "language_info": {
   "codemirror_mode": {
    "name": "ipython",
    "version": 3
   },
   "file_extension": ".py",
   "mimetype": "text/x-python",
   "name": "python",
   "nbconvert_exporter": "python",
   "pygments_lexer": "ipython3",
   "version": "3.7.3"
  },
  "varInspector": {
   "cols": {
    "lenName": 16,
    "lenType": 16,
    "lenVar": 40
   },
   "kernels_config": {
    "python": {
     "delete_cmd_postfix": "",
     "delete_cmd_prefix": "del ",
     "library": "var_list.py",
     "varRefreshCmd": "print(var_dic_list())"
    },
    "r": {
     "delete_cmd_postfix": ") ",
     "delete_cmd_prefix": "rm(",
     "library": "var_list.r",
     "varRefreshCmd": "cat(var_dic_list()) "
    }
   },
   "types_to_exclude": [
    "module",
    "function",
    "builtin_function_or_method",
    "instance",
    "_Feature"
   ],
   "window_display": false
  }
 },
 "nbformat": 4,
 "nbformat_minor": 4
}
