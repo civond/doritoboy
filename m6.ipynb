{
 "cells": [
  {
   "cell_type": "markdown",
   "metadata": {},
   "source": [
    "#### Bi 410/510 (Fall 2019)"
   ]
  },
  {
   "cell_type": "markdown",
   "metadata": {},
   "source": [
    "Before you turn this problem in, make sure everything runs as expected. First, **restart the kernel** (in the menubar, select Kernel$\\rightarrow$Restart) and then **run all cells** (in the menubar, select Cell$\\rightarrow$Run All).\n",
    "\n",
    "Make sure you fill in any place that says `YOUR CODE HERE` or `\"YOUR ANSWER HERE\"`.\n",
    "\n",
    "When you are finished submit this notebook through Canvas."
   ]
  },
  {
   "cell_type": "markdown",
   "metadata": {},
   "source": [
    "# <span style=\"color:steelblue;\">Milestone 6A</span>"
   ]
  },
  {
   "cell_type": "markdown",
   "metadata": {},
   "source": [
    "### <span style=\"color:steelblue;\">Instructions</span>"
   ]
  },
  {
   "cell_type": "markdown",
   "metadata": {},
   "source": [
    "For this exam you need to write one Python function, create two plots using Matplotlib, and answer one short-answer question.\n",
    "\n",
    "The data for the plots is in the file named `finances.csv` (download it from the Bi 410 server and save it in the same folder as this notebook).  Each line in this file defines one financial transaction, with the following items on each line:\n",
    "* transaction date\n",
    "* payee (usually a business name)\n",
    "* amount\n",
    "* expense category"
   ]
  },
  {
   "cell_type": "markdown",
   "metadata": {},
   "source": [
    "As you work on the projects write your Python code in the cells that have a comment that says `\"YOUR CODE HERE\"` or `\"YOUR ANSWER HERE\"`.\n",
    "\n",
    "**IMPORTANT:** Do not copy or delete these cells.\n",
    "\n",
    "You can add additional \"sandbox\" cells if you wish, but make sure you don't duplicate a solution cell."
   ]
  },
  {
   "cell_type": "markdown",
   "metadata": {},
   "source": [
    "To get the data for the first plot you need to call a function named `parse_annual_spending`, which we have already written for you.  When this function is passed the name of a file with transaction records it returns two lists.  The first is a list of months, and the second is the total amount spent in a month.\n",
    "\n",
    "For example, the small file named `demo_transactions.csv` has these 6 transactions:\n",
    "```\n",
    "    2018-01-03,Safeway,30.00,food\n",
    "    2018-01-07,Jerrys,15.00,home\n",
    "    2018-02-08,Hirons,3.00,home\n",
    "    2018-02-09,Newmans,10.00,food\n",
    "    2018-03-09,Safeway,20.00,food\n",
    "    2018-03-09,Chevron,10.00,car\n",
    "```\n",
    "\n",
    "This file shows transactions from three months (`01`, `02`, and `03`). The total spent in those months was $\\$$45.00 in `01`, $\\$$13.00 in `02`, and $\\$$30.00 in `03`:\n",
    "```\n",
    ">>> months, dollars = parse_annual_spending('demo_transactions.csv')\n",
    ">>> months\n",
    "['01', '02', '03']\n",
    ">>> dollars\n",
    "[45.0, 13.0, 30.0]\n",
    "```"
   ]
  },
  {
   "cell_type": "markdown",
   "metadata": {},
   "source": [
    "### <span style=\"color:steelblue;\">Imports</span>"
   ]
  },
  {
   "cell_type": "markdown",
   "metadata": {},
   "source": [
    "Execute this code cell to import Matplotlib and tell Jupyter to display plots in this notebook:"
   ]
  },
  {
   "cell_type": "code",
   "execution_count": 3,
   "metadata": {
    "deletable": false,
    "editable": false,
    "nbgrader": {
     "cell_type": "code",
     "checksum": "d7be17f94922cc46a5da1e33aa282a1c",
     "grade": false,
     "grade_id": "cell-d05db9fb3ceab981",
     "locked": true,
     "schema_version": 3,
     "solution": false,
     "task": false
    }
   },
   "outputs": [],
   "source": [
    "import matplotlib.pyplot as plt\n",
    "%matplotlib inline"
   ]
  },
  {
   "cell_type": "markdown",
   "metadata": {},
   "source": [
    "### <span style=\"color:steelblue;\">Graph of Annual Spending</span>"
   ]
  },
  {
   "cell_type": "markdown",
   "metadata": {},
   "source": [
    "Execute this code cell to define the parsing function:"
   ]
  },
  {
   "cell_type": "code",
   "execution_count": 4,
   "metadata": {
    "deletable": false,
    "editable": false,
    "nbgrader": {
     "cell_type": "code",
     "checksum": "d05532a75fb2c8cbb263fb8ae39082ad",
     "grade": false,
     "grade_id": "cell-71f6a1591d660ad1",
     "locked": true,
     "schema_version": 3,
     "solution": false,
     "task": false
    }
   },
   "outputs": [],
   "source": [
    "def parse_annual_spending(fn):\n",
    "    current = None\n",
    "    months = [ ]\n",
    "    spending = [ ]\n",
    "    with open(fn) as f:\n",
    "        for line in f:\n",
    "            date, payee, amount, category = line.strip().split(',')\n",
    "            yr, mon, day = date.split('-')\n",
    "            if mon != current:\n",
    "                months.append(mon)\n",
    "                spending.append(0)\n",
    "                current = mon\n",
    "            spending[-1] += float(amount)\n",
    "    return months, spending"
   ]
  },
  {
   "cell_type": "markdown",
   "metadata": {},
   "source": [
    "Write a Python statement that calls the parser and saves the two lists it returns (you'll need these lists to make the plot):"
   ]
  },
  {
   "cell_type": "code",
   "execution_count": 71,
   "metadata": {
    "deletable": false,
    "nbgrader": {
     "cell_type": "code",
     "checksum": "b7a67ca1ba4ae82135f4c58bc8e934fa",
     "grade": true,
     "grade_id": "parse_annual_spending",
     "locked": false,
     "points": 1,
     "schema_version": 3,
     "solution": true,
     "task": false
    }
   },
   "outputs": [],
   "source": [
    "# YOUR CODE \n",
    "months, dollars = parse_annual_spending('finances.csv')\n"
   ]
  },
  {
   "cell_type": "markdown",
   "metadata": {},
   "source": [
    "Fill in the code cell below to generate a graph that shows the total spending over the year, plotting one point per month.  The $x$-axis should show the months, the $y$-axis should be the amount spent in each month.  Your plot should have a title and labels on the $x$ and $y$ axes (but you can use any line styles and colors).\n",
    "\n",
    "Note that the $y$-axis should range from 0 to 1000.\n",
    "\n",
    "The plot should look something like this:\n",
    "\n",
    "<img src=\"https://pages.uoregon.edu/conery/Bi410/annual_spending.png\">"
   ]
  },
  {
   "cell_type": "code",
   "execution_count": 5,
   "metadata": {
    "deletable": false,
    "nbgrader": {
     "cell_type": "code",
     "checksum": "21837ce5cf3c2e99700427835bb15e6d",
     "grade": true,
     "grade_id": "plot_annual_spending",
     "locked": false,
     "points": 4,
     "schema_version": 3,
     "solution": true,
     "task": false
    }
   },
   "outputs": [
    {
     "data": {
      "image/png": "[encoded data removed]",
      "text/plain": [
       "<Figure size 432x288 with 1 Axes>"
      ]
     },
     "metadata": {
      "needs_background": "light"
     },
     "output_type": "display_data"
    }
   ],
   "source": [
    "# YOUR CODE HERE\n",
    "months, dollars = parse_annual_spending('finances.csv')\n",
    "\n",
    "plt.plot(months, dollars)\n",
    "plt.ylabel('Amount')\n",
    "plt.xlabel('Month')\n",
    "plt.title('Annual Spending')\n",
    "\n",
    "plt.show()"
   ]
  },
  {
   "cell_type": "markdown",
   "metadata": {},
   "source": [
    "### <span style=\"color:steelblue;\">Spending by Category</span>"
   ]
  },
  {
   "cell_type": "markdown",
   "metadata": {},
   "source": [
    "Write a function named `parse_categories`.  Like the previous parsing function, it will be passed the name of a file with financial transactions, but this time the return value should be a dictionary where the keys are spending categories and the values are the total amount spent in each category.\n",
    "\n",
    "The demo file has transactions in three categories (home, food, car).  The dictionary you build for this data should look something like this:\n",
    "```\n",
    ">>> parse_categories('demo_transactions.csv')\n",
    "{'food': 60.0, 'home': 18.0, 'car': 10.0}\n",
    "```"
   ]
  },
  {
   "cell_type": "code",
   "execution_count": 1,
   "metadata": {
    "deletable": false,
    "nbgrader": {
     "cell_type": "code",
     "checksum": "c278b8893dcd7398956dae19173fa9d1",
     "grade": true,
     "grade_id": "parse_categories",
     "locked": false,
     "points": 3,
     "schema_version": 3,
     "solution": true,
     "task": false
    }
   },
   "outputs": [],
   "source": [
    "def parse_categories(fn):\n",
    "    car_total = []\n",
    "    food_total = []\n",
    "    home_total = []\n",
    "        \n",
    "    with open(fn) as f:\n",
    "        for line in f:\n",
    "            date, payee, amount, category = line.strip().split(',')\n",
    "            \n",
    "            if category == 'car':\n",
    "                car_total.append(float(amount))\n",
    "            elif category == 'food':\n",
    "                food_total.append(float(amount))\n",
    "            elif category == 'home':\n",
    "                home_total.append(float(amount))\n",
    "\n",
    "        dic = {'food' : round(sum(food_total), 2),\n",
    "               'home' : round(sum(home_total), 2),\n",
    "               'car' : round(sum(car_total), 2)\n",
    "              }\n",
    "        \n",
    "        print(dic)\n",
    "        return dic\n",
    "      "
   ]
  },
  {
   "cell_type": "markdown",
   "metadata": {},
   "source": [
    "##### Sandbox "
   ]
  },
  {
   "cell_type": "markdown",
   "metadata": {},
   "source": [
    "You can use this cell to test your function on the demo data.  The expected result is shown above."
   ]
  },
  {
   "cell_type": "code",
   "execution_count": 2,
   "metadata": {},
   "outputs": [
    {
     "name": "stdout",
     "output_type": "stream",
     "text": [
      "{'food': 60.0, 'home': 18.0, 'car': 10.0}\n"
     ]
    },
    {
     "data": {
      "text/plain": [
       "{'food': 60.0, 'home': 18.0, 'car': 10.0}"
      ]
     },
     "execution_count": 2,
     "metadata": {},
     "output_type": "execute_result"
    }
   ],
   "source": [
    "parse_categories('demo_transactions.csv')"
   ]
  },
  {
   "cell_type": "markdown",
   "metadata": {},
   "source": [
    "##### Tests "
   ]
  },
  {
   "cell_type": "markdown",
   "metadata": {},
   "source": [
    "When your function is workng execute this code cell to parse the file and save the results:"
   ]
  },
  {
   "cell_type": "code",
   "execution_count": 6,
   "metadata": {
    "deletable": false,
    "editable": false,
    "nbgrader": {
     "cell_type": "code",
     "checksum": "abe316516c6ce6a5b1ca823e7c9d4a1d",
     "grade": false,
     "grade_id": "cell-7e1cf642a4f51832",
     "locked": true,
     "schema_version": 3,
     "solution": false,
     "task": false
    }
   },
   "outputs": [
    {
     "name": "stdout",
     "output_type": "stream",
     "text": [
      "{'food': 3998.48, 'home': 2560.04, 'car': 1424.1}\n"
     ]
    }
   ],
   "source": [
    "categories = parse_categories('finances.csv')"
   ]
  },
  {
   "cell_type": "markdown",
   "metadata": {},
   "source": [
    "We'll grade your program using these cells."
   ]
  },
  {
   "cell_type": "code",
   "execution_count": 7,
   "metadata": {
    "deletable": false,
    "editable": false,
    "nbgrader": {
     "cell_type": "code",
     "checksum": "be22089a867d7710a3ea155b82821da1",
     "grade": true,
     "grade_id": "cell-2d973f3fd15e3163",
     "locked": true,
     "points": 2,
     "schema_version": 3,
     "solution": false,
     "task": false
    }
   },
   "outputs": [],
   "source": [
    "assert sorted(list(categories.keys())) == ['car', 'food', 'home']"
   ]
  },
  {
   "cell_type": "code",
   "execution_count": 8,
   "metadata": {
    "deletable": false,
    "editable": false,
    "nbgrader": {
     "cell_type": "code",
     "checksum": "b4ca72ec70f226e6aa14f30b4bf1a8b2",
     "grade": true,
     "grade_id": "cell-063a6a9a26e6cd1b",
     "locked": true,
     "points": 2,
     "schema_version": 3,
     "solution": false,
     "task": false
    }
   },
   "outputs": [],
   "source": [
    "assert round(sum(categories.values()),2) == 7982.62"
   ]
  },
  {
   "cell_type": "markdown",
   "metadata": {},
   "source": [
    "### <span style=\"color:steelblue;\">Plot Spending by Category</span>"
   ]
  },
  {
   "cell_type": "markdown",
   "metadata": {},
   "source": [
    "Use the code cell below to produce a bar chart that shows total spending in each category.  Your chart should have a title and a label on the $y$-axis, but you can use any colors or other style variations you want.  The categories can appear in any order.\n",
    "\n",
    "The data for this plot is in the dictionary named `categories` that was created by the test cells in the previous project.\n",
    "\n",
    "Your plot should look something like this:\n",
    "\n",
    "<img src=\"https://pages.uoregon.edu/conery/Bi410/spending_categories.png\">"
   ]
  },
  {
   "cell_type": "code",
   "execution_count": 35,
   "metadata": {
    "deletable": false,
    "nbgrader": {
     "cell_type": "code",
     "checksum": "f2b0699a6ad829d47f4beecc96b762e1",
     "grade": true,
     "grade_id": "plot_spending",
     "locked": false,
     "points": 5,
     "schema_version": 3,
     "solution": true,
     "task": false
    }
   },
   "outputs": [
    {
     "data": {
      "image/png": "[encoded data removed]",
      "text/plain": [
       "<Figure size 432x288 with 1 Axes>"
      ]
     },
     "metadata": {
      "needs_background": "light"
     },
     "output_type": "display_data"
    }
   ],
   "source": [
    "plt.title('Spending Categories')\n",
    "plt.ylabel('Amount')\n",
    "plt.bar(categories.keys(), categories.values())\n",
    "plt.show()"
   ]
  },
  {
   "cell_type": "markdown",
   "metadata": {},
   "source": [
    "### <span style=\"color:red;\">Short Answer Question</span>"
   ]
  },
  {
   "cell_type": "markdown",
   "metadata": {},
   "source": [
    "Don't forget to complete the short-answer question on the exam page.\n",
    "\n",
    "Double-click on the markdown cell below and enter your answer in this cell."
   ]
  },
  {
   "cell_type": "markdown",
   "metadata": {
    "deletable": false,
    "nbgrader": {
     "cell_type": "markdown",
     "checksum": "bd11c09750dc61eb0a41645753e89027",
     "grade": true,
     "grade_id": "cell-4b9de8853cd242e6",
     "locked": false,
     "points": 3,
     "schema_version": 3,
     "solution": true,
     "task": false
    }
   },
   "source": [
    "the scatter plot would look like:\n",
    "a scatterplot with categories (food{value0}, car{value1}, home{value2}) displayed by spending and date.\n",
    "\n",
    "It's a scatterplot..."
   ]
  }
 ],
 "metadata": {
  "kernelspec": {
   "display_name": "Python 3",
   "language": "python",
   "name": "python3"
  },
  "language_info": {
   "codemirror_mode": {
    "name": "ipython",
    "version": 3
   },
   "file_extension": ".py",
   "mimetype": "text/x-python",
   "name": "python",
   "nbconvert_exporter": "python",
   "pygments_lexer": "ipython3",
   "version": "3.7.3"
  },
  "varInspector": {
   "cols": {
    "lenName": 16,
    "lenType": 16,
    "lenVar": 40
   },
   "kernels_config": {
    "python": {
     "delete_cmd_postfix": "",
     "delete_cmd_prefix": "del ",
     "library": "var_list.py",
     "varRefreshCmd": "print(var_dic_list())"
    },
    "r": {
     "delete_cmd_postfix": ") ",
     "delete_cmd_prefix": "rm(",
     "library": "var_list.r",
     "varRefreshCmd": "cat(var_dic_list()) "
    }
   },
   "types_to_exclude": [
    "module",
    "function",
    "builtin_function_or_method",
    "instance",
    "_Feature"
   ],
   "window_display": false
  }
 },
 "nbformat": 4,
 "nbformat_minor": 4
}
